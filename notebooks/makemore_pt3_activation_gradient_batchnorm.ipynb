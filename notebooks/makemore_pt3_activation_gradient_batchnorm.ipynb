{
 "cells": [
  {
   "cell_type": "code",
   "execution_count": 2,
   "metadata": {},
   "outputs": [
    {
     "name": "stdout",
     "output_type": "stream",
     "text": [
      "/Users/cristian/Personal/Projects/nlp-playground\n"
     ]
    }
   ],
   "source": [
    "import os\n",
    "import torch\n",
    "import matplotlib.pyplot as plt\n",
    "from torch.functional import F\n",
    "from typing import cast\n",
    "from tqdm import tqdm\n",
    "import random\n",
    "\n",
    "\n",
    "%matplotlib inline\n",
    "while not os.getcwd().endswith(\"nlp-playground\"):\n",
    "    os.chdir(\"..\")\n",
    "print(os.getcwd())\n",
    "DATA_DIR = \"data\"\n",
    "NAMES_FILE_PATH = os.path.join(DATA_DIR, \"names.txt\")"
   ]
  },
  {
   "cell_type": "markdown",
   "metadata": {},
   "source": [
    "Load the words"
   ]
  },
  {
   "cell_type": "code",
   "execution_count": 7,
   "metadata": {},
   "outputs": [
    {
     "data": {
      "text/plain": [
       "['emma', 'olivia', 'ava', 'isabella', 'sophia', 'charlotte', 'mia', 'amelia']"
      ]
     },
     "execution_count": 7,
     "metadata": {},
     "output_type": "execute_result"
    }
   ],
   "source": [
    "with open(NAMES_FILE_PATH, \"r\") as f:\n",
    "    words = f.read().splitlines()\n",
    "words[:8]"
   ]
  },
  {
   "cell_type": "code",
   "execution_count": 8,
   "metadata": {},
   "outputs": [
    {
     "data": {
      "text/plain": [
       "32033"
      ]
     },
     "execution_count": 8,
     "metadata": {},
     "output_type": "execute_result"
    }
   ],
   "source": [
    "len(words)"
   ]
  },
  {
   "cell_type": "markdown",
   "metadata": {},
   "source": [
    "Build the dictionary mapping of the characters to their corresponding integer values"
   ]
  },
  {
   "cell_type": "code",
   "execution_count": 11,
   "metadata": {},
   "outputs": [
    {
     "name": "stdout",
     "output_type": "stream",
     "text": [
      "{'.': 0, 'a': 1, 'b': 2, 'c': 3, 'd': 4, 'e': 5, 'f': 6, 'g': 7, 'h': 8, 'i': 9, 'j': 10, 'k': 11, 'l': 12, 'm': 13, 'n': 14, 'o': 15, 'p': 16, 'q': 17, 'r': 18, 's': 19, 't': 20, 'u': 21, 'v': 22, 'w': 23, 'x': 24, 'y': 25, 'z': 26}\n",
      "{0: '.', 1: 'a', 2: 'b', 3: 'c', 4: 'd', 5: 'e', 6: 'f', 7: 'g', 8: 'h', 9: 'i', 10: 'j', 11: 'k', 12: 'l', 13: 'm', 14: 'n', 15: 'o', 16: 'p', 17: 'q', 18: 'r', 19: 's', 20: 't', 21: 'u', 22: 'v', 23: 'w', 24: 'x', 25: 'y', 26: 'z'}\n",
      "27\n"
     ]
    }
   ],
   "source": [
    "chars = [\".\"] + sorted(list(set(\"\".join(words))))\n",
    "stoi = {ch: i for i, ch in enumerate(chars)}\n",
    "itos = {i: ch for i, ch in enumerate(chars)}\n",
    "vocab_size = len(chars)\n",
    "print(stoi)\n",
    "print(itos)\n",
    "print(vocab_size)"
   ]
  },
  {
   "cell_type": "markdown",
   "metadata": {},
   "source": [
    "Build the actual datased considering a sequence of block_size characters as input and the next character as the output"
   ]
  },
  {
   "cell_type": "code",
   "execution_count": 13,
   "metadata": {},
   "outputs": [],
   "source": [
    "def build_dataset(words, block_size=None):\n",
    "    if block_size is None:\n",
    "        block_size = 3\n",
    "\n",
    "    X, Y = [], []\n",
    "\n",
    "    # iterate over words\n",
    "    for word in words:\n",
    "        # define a 3-character context window\n",
    "        context = [0] * block_size\n",
    "        # iterate over characters in the word\n",
    "        for char in word + \".\":\n",
    "            # get the index of the character\n",
    "            idx = stoi[char]\n",
    "            X.append(context)\n",
    "            Y.append(idx)\n",
    "            # slide the context window one character to the right\n",
    "            context = context[1:] + [idx]\n",
    "    # convert the data to PyTorch tensors\n",
    "    X = torch.tensor(X)\n",
    "    Y = torch.tensor(Y)\n",
    "    print(X.shape, Y.shape)\n",
    "    return X, Y\n"
   ]
  },
  {
   "cell_type": "code",
   "execution_count": 29,
   "metadata": {},
   "outputs": [
    {
     "name": "stdout",
     "output_type": "stream",
     "text": [
      "torch.Size([182437, 3]) torch.Size([182437])\n",
      "torch.Size([22781, 3]) torch.Size([22781])\n",
      "torch.Size([22928, 3]) torch.Size([22928])\n"
     ]
    }
   ],
   "source": [
    "random.seed(42)\n",
    "random.shuffle(words)\n",
    "block_size = 3\n",
    "n1 = int(len(words) * 0.8)\n",
    "n2 = int(len(words) * 0.9)\n",
    "X_tr, Y_tr = build_dataset(words[:n1], block_size)\n",
    "X_dev, Y_dev = build_dataset(words[n1:n2], block_size)\n",
    "X_te, Y_te = build_dataset(words[n2:], block_size)"
   ]
  },
  {
   "cell_type": "code",
   "execution_count": null,
   "metadata": {},
   "outputs": [
    {
     "name": "stdout",
     "output_type": "stream",
     "text": [
      "11897\n"
     ]
    }
   ],
   "source": [
    "n_emb = 10\n",
    "n_hidden = 200\n",
    "\n",
    "g = torch.Generator().manual_seed(42)\n",
    "C = torch.randn(vocab_size, n_emb, generator=g, requires_grad=True)\n",
    "W1 = torch.randn(block_size * n_emb, n_hidden, generator=g, requires_grad=True)\n",
    "b1 = torch.randn(n_hidden, generator=g, requires_grad=True)\n",
    "W2 = torch.randn(n_hidden, vocab_size, generator=g, requires_grad=True)\n",
    "b2 = torch.randn(vocab_size, generator=g, requires_grad=True)\n",
    "parameters = [C, W1, b1, W2, b2]\n",
    "print(sum(p.nelement() for p in parameters))"
   ]
  },
  {
   "cell_type": "code",
   "execution_count": 31,
   "metadata": {},
   "outputs": [],
   "source": [
    "max_steps = 200000\n",
    "batch_size = 32\n",
    "lossi = []"
   ]
  },
  {
   "cell_type": "code",
   "execution_count": 32,
   "metadata": {},
   "outputs": [
    {
     "name": "stderr",
     "output_type": "stream",
     "text": [
      "Training:   0%|          | 241/200000 [00:00<02:45, 1205.51it/s, loss=5.69]"
     ]
    },
    {
     "name": "stdout",
     "output_type": "stream",
     "text": [
      "      0/ 200000: 25.61225700378418\n"
     ]
    },
    {
     "name": "stderr",
     "output_type": "stream",
     "text": [
      "Training:   1%|          | 1197/200000 [00:01<03:02, 1092.14it/s, loss=4.26]"
     ]
    },
    {
     "name": "stdout",
     "output_type": "stream",
     "text": [
      "   1000/ 200000: 2.8847508430480957\n"
     ]
    },
    {
     "name": "stderr",
     "output_type": "stream",
     "text": [
      "Training:   1%|          | 2170/200000 [00:01<02:47, 1181.69it/s, loss=3.75]"
     ]
    },
    {
     "name": "stdout",
     "output_type": "stream",
     "text": [
      "   2000/ 200000: 3.450000762939453\n"
     ]
    },
    {
     "name": "stderr",
     "output_type": "stream",
     "text": [
      "Training:   2%|▏         | 3150/200000 [00:02<02:49, 1160.80it/s, loss=2.18]"
     ]
    },
    {
     "name": "stdout",
     "output_type": "stream",
     "text": [
      "   3000/ 200000: 2.4936842918395996\n"
     ]
    },
    {
     "name": "stderr",
     "output_type": "stream",
     "text": [
      "Training:   2%|▏         | 4130/200000 [00:03<02:45, 1183.81it/s, loss=3.15]"
     ]
    },
    {
     "name": "stdout",
     "output_type": "stream",
     "text": [
      "   4000/ 200000: 3.0462582111358643\n"
     ]
    },
    {
     "name": "stderr",
     "output_type": "stream",
     "text": [
      "Training:   3%|▎         | 5227/200000 [00:04<02:40, 1213.25it/s, loss=2.96]"
     ]
    },
    {
     "name": "stdout",
     "output_type": "stream",
     "text": [
      "   5000/ 200000: 2.785365343093872\n"
     ]
    },
    {
     "name": "stderr",
     "output_type": "stream",
     "text": [
      "Training:   3%|▎         | 6210/200000 [00:05<02:43, 1187.40it/s, loss=3.1] "
     ]
    },
    {
     "name": "stdout",
     "output_type": "stream",
     "text": [
      "   6000/ 200000: 2.8082351684570312\n"
     ]
    },
    {
     "name": "stderr",
     "output_type": "stream",
     "text": [
      "Training:   4%|▎         | 7166/200000 [00:06<02:51, 1121.54it/s, loss=2.4] "
     ]
    },
    {
     "name": "stdout",
     "output_type": "stream",
     "text": [
      "   7000/ 200000: 2.2180397510528564\n"
     ]
    },
    {
     "name": "stderr",
     "output_type": "stream",
     "text": [
      "Training:   4%|▍         | 8119/200000 [00:07<02:43, 1175.42it/s, loss=2.41]"
     ]
    },
    {
     "name": "stdout",
     "output_type": "stream",
     "text": [
      "   8000/ 200000: 2.4046990871429443\n"
     ]
    },
    {
     "name": "stderr",
     "output_type": "stream",
     "text": [
      "Training:   5%|▍         | 9183/200000 [00:07<02:52, 1106.29it/s, loss=2.6] "
     ]
    },
    {
     "name": "stdout",
     "output_type": "stream",
     "text": [
      "   9000/ 200000: 2.4543285369873047\n"
     ]
    },
    {
     "name": "stderr",
     "output_type": "stream",
     "text": [
      "Training:   5%|▌         | 10133/200000 [00:08<02:38, 1199.39it/s, loss=2.57]"
     ]
    },
    {
     "name": "stdout",
     "output_type": "stream",
     "text": [
      "  10000/ 200000: 2.517268419265747\n"
     ]
    },
    {
     "name": "stderr",
     "output_type": "stream",
     "text": [
      "Training:   6%|▌         | 11222/200000 [00:09<02:41, 1166.26it/s, loss=2.22]"
     ]
    },
    {
     "name": "stdout",
     "output_type": "stream",
     "text": [
      "  11000/ 200000: 2.5424296855926514\n"
     ]
    },
    {
     "name": "stderr",
     "output_type": "stream",
     "text": [
      "Training:   6%|▌         | 12183/200000 [00:10<02:35, 1209.92it/s, loss=2.14]"
     ]
    },
    {
     "name": "stdout",
     "output_type": "stream",
     "text": [
      "  12000/ 200000: 2.366710662841797\n"
     ]
    },
    {
     "name": "stderr",
     "output_type": "stream",
     "text": [
      "Training:   7%|▋         | 13141/200000 [00:11<02:44, 1134.94it/s, loss=2.59]"
     ]
    },
    {
     "name": "stdout",
     "output_type": "stream",
     "text": [
      "  13000/ 200000: 2.9909517765045166\n"
     ]
    },
    {
     "name": "stderr",
     "output_type": "stream",
     "text": [
      "Training:   7%|▋         | 14229/200000 [00:12<02:38, 1175.06it/s, loss=2.67]"
     ]
    },
    {
     "name": "stdout",
     "output_type": "stream",
     "text": [
      "  14000/ 200000: 2.2649266719818115\n"
     ]
    },
    {
     "name": "stderr",
     "output_type": "stream",
     "text": [
      "Training:   8%|▊         | 15186/200000 [00:13<02:38, 1163.96it/s, loss=2.9] "
     ]
    },
    {
     "name": "stdout",
     "output_type": "stream",
     "text": [
      "  15000/ 200000: 2.734208583831787\n"
     ]
    },
    {
     "name": "stderr",
     "output_type": "stream",
     "text": [
      "Training:   8%|▊         | 16142/200000 [00:13<02:45, 1114.10it/s, loss=2.16]"
     ]
    },
    {
     "name": "stdout",
     "output_type": "stream",
     "text": [
      "  16000/ 200000: 2.7003705501556396\n"
     ]
    },
    {
     "name": "stderr",
     "output_type": "stream",
     "text": [
      "Training:   9%|▊         | 17167/200000 [00:14<02:43, 1118.39it/s, loss=2.31]"
     ]
    },
    {
     "name": "stdout",
     "output_type": "stream",
     "text": [
      "  17000/ 200000: 2.488553285598755\n"
     ]
    },
    {
     "name": "stderr",
     "output_type": "stream",
     "text": [
      "Training:   9%|▉         | 18214/200000 [00:15<02:48, 1076.53it/s, loss=2.34]"
     ]
    },
    {
     "name": "stdout",
     "output_type": "stream",
     "text": [
      "  18000/ 200000: 2.1007373332977295\n"
     ]
    },
    {
     "name": "stderr",
     "output_type": "stream",
     "text": [
      "Training:  10%|▉         | 19131/200000 [00:16<02:46, 1086.08it/s, loss=2.47]"
     ]
    },
    {
     "name": "stdout",
     "output_type": "stream",
     "text": [
      "  19000/ 200000: 2.7327921390533447\n"
     ]
    },
    {
     "name": "stderr",
     "output_type": "stream",
     "text": [
      "Training:  10%|█         | 20222/200000 [00:17<02:32, 1178.47it/s, loss=2.56]"
     ]
    },
    {
     "name": "stdout",
     "output_type": "stream",
     "text": [
      "  20000/ 200000: 2.461017370223999\n"
     ]
    },
    {
     "name": "stderr",
     "output_type": "stream",
     "text": [
      "Training:  11%|█         | 21205/200000 [00:18<02:29, 1197.46it/s, loss=2.34]"
     ]
    },
    {
     "name": "stdout",
     "output_type": "stream",
     "text": [
      "  21000/ 200000: 2.1205837726593018\n"
     ]
    },
    {
     "name": "stderr",
     "output_type": "stream",
     "text": [
      "Training:  11%|█         | 22186/200000 [00:19<02:31, 1170.69it/s, loss=2.22]"
     ]
    },
    {
     "name": "stdout",
     "output_type": "stream",
     "text": [
      "  22000/ 200000: 2.3766045570373535\n"
     ]
    },
    {
     "name": "stderr",
     "output_type": "stream",
     "text": [
      "Training:  12%|█▏        | 23158/200000 [00:19<02:24, 1222.93it/s, loss=2.25]"
     ]
    },
    {
     "name": "stdout",
     "output_type": "stream",
     "text": [
      "  23000/ 200000: 1.8513569831848145\n"
     ]
    },
    {
     "name": "stderr",
     "output_type": "stream",
     "text": [
      "Training:  12%|█▏        | 24136/200000 [00:20<02:28, 1180.95it/s, loss=2.48]"
     ]
    },
    {
     "name": "stdout",
     "output_type": "stream",
     "text": [
      "  24000/ 200000: 2.5262670516967773\n"
     ]
    },
    {
     "name": "stderr",
     "output_type": "stream",
     "text": [
      "Training:  13%|█▎        | 25118/200000 [00:21<02:27, 1188.57it/s, loss=2.49]"
     ]
    },
    {
     "name": "stdout",
     "output_type": "stream",
     "text": [
      "  25000/ 200000: 2.308318853378296\n"
     ]
    },
    {
     "name": "stderr",
     "output_type": "stream",
     "text": [
      "Training:  13%|█▎        | 26203/200000 [00:22<02:25, 1193.53it/s, loss=2.13]"
     ]
    },
    {
     "name": "stdout",
     "output_type": "stream",
     "text": [
      "  26000/ 200000: 1.9534039497375488\n"
     ]
    },
    {
     "name": "stderr",
     "output_type": "stream",
     "text": [
      "Training:  14%|█▎        | 27173/200000 [00:23<02:21, 1222.14it/s, loss=2.18]"
     ]
    },
    {
     "name": "stdout",
     "output_type": "stream",
     "text": [
      "  27000/ 200000: 2.3922338485717773\n"
     ]
    },
    {
     "name": "stderr",
     "output_type": "stream",
     "text": [
      "Training:  14%|█▍        | 28138/200000 [00:24<02:27, 1166.08it/s, loss=2.4] "
     ]
    },
    {
     "name": "stdout",
     "output_type": "stream",
     "text": [
      "  28000/ 200000: 2.914886713027954\n"
     ]
    },
    {
     "name": "stderr",
     "output_type": "stream",
     "text": [
      "Training:  15%|█▍        | 29235/200000 [00:25<02:21, 1210.56it/s, loss=2.4] "
     ]
    },
    {
     "name": "stdout",
     "output_type": "stream",
     "text": [
      "  29000/ 200000: 2.4321999549865723\n"
     ]
    },
    {
     "name": "stderr",
     "output_type": "stream",
     "text": [
      "Training:  15%|█▌        | 30216/200000 [00:25<02:16, 1245.31it/s, loss=2.62]"
     ]
    },
    {
     "name": "stdout",
     "output_type": "stream",
     "text": [
      "  30000/ 200000: 2.1949145793914795\n"
     ]
    },
    {
     "name": "stderr",
     "output_type": "stream",
     "text": [
      "Training:  16%|█▌        | 31187/200000 [00:26<02:21, 1193.08it/s, loss=2.6] "
     ]
    },
    {
     "name": "stdout",
     "output_type": "stream",
     "text": [
      "  31000/ 200000: 2.411323070526123\n"
     ]
    },
    {
     "name": "stderr",
     "output_type": "stream",
     "text": [
      "Training:  16%|█▌        | 32177/200000 [00:27<02:21, 1187.45it/s, loss=2.31]"
     ]
    },
    {
     "name": "stdout",
     "output_type": "stream",
     "text": [
      "  32000/ 200000: 2.908726692199707\n"
     ]
    },
    {
     "name": "stderr",
     "output_type": "stream",
     "text": [
      "Training:  17%|█▋        | 33161/200000 [00:28<02:21, 1180.36it/s, loss=2.1] "
     ]
    },
    {
     "name": "stdout",
     "output_type": "stream",
     "text": [
      "  33000/ 200000: 2.3166356086730957\n"
     ]
    },
    {
     "name": "stderr",
     "output_type": "stream",
     "text": [
      "Training:  17%|█▋        | 34236/200000 [00:29<02:18, 1197.84it/s, loss=2.21]"
     ]
    },
    {
     "name": "stdout",
     "output_type": "stream",
     "text": [
      "  34000/ 200000: 2.309490203857422\n"
     ]
    },
    {
     "name": "stderr",
     "output_type": "stream",
     "text": [
      "Training:  18%|█▊        | 35191/200000 [00:30<02:16, 1204.88it/s, loss=2.57]"
     ]
    },
    {
     "name": "stdout",
     "output_type": "stream",
     "text": [
      "  35000/ 200000: 2.4829940795898438\n"
     ]
    },
    {
     "name": "stderr",
     "output_type": "stream",
     "text": [
      "Training:  18%|█▊        | 36168/200000 [00:30<02:13, 1224.97it/s, loss=2.41]"
     ]
    },
    {
     "name": "stdout",
     "output_type": "stream",
     "text": [
      "  36000/ 200000: 2.202291488647461\n"
     ]
    },
    {
     "name": "stderr",
     "output_type": "stream",
     "text": [
      "Training:  19%|█▊        | 37144/200000 [00:31<02:15, 1201.06it/s, loss=2.13]"
     ]
    },
    {
     "name": "stdout",
     "output_type": "stream",
     "text": [
      "  37000/ 200000: 2.2351205348968506\n"
     ]
    },
    {
     "name": "stderr",
     "output_type": "stream",
     "text": [
      "Training:  19%|█▉        | 38141/200000 [00:32<02:16, 1186.87it/s, loss=2.42]"
     ]
    },
    {
     "name": "stdout",
     "output_type": "stream",
     "text": [
      "  38000/ 200000: 2.5512709617614746\n"
     ]
    },
    {
     "name": "stderr",
     "output_type": "stream",
     "text": [
      "Training:  20%|█▉        | 39121/200000 [00:33<02:12, 1216.99it/s, loss=2.11]"
     ]
    },
    {
     "name": "stdout",
     "output_type": "stream",
     "text": [
      "  39000/ 200000: 2.6583123207092285\n"
     ]
    },
    {
     "name": "stderr",
     "output_type": "stream",
     "text": [
      "Training:  20%|██        | 40218/200000 [00:34<02:12, 1209.30it/s, loss=2.85]"
     ]
    },
    {
     "name": "stdout",
     "output_type": "stream",
     "text": [
      "  40000/ 200000: 2.580247163772583\n"
     ]
    },
    {
     "name": "stderr",
     "output_type": "stream",
     "text": [
      "Training:  21%|██        | 41152/200000 [00:35<02:21, 1125.36it/s, loss=2.29]"
     ]
    },
    {
     "name": "stdout",
     "output_type": "stream",
     "text": [
      "  41000/ 200000: 2.4511289596557617\n"
     ]
    },
    {
     "name": "stderr",
     "output_type": "stream",
     "text": [
      "Training:  21%|██        | 42229/200000 [00:36<02:10, 1205.27it/s, loss=1.98]"
     ]
    },
    {
     "name": "stdout",
     "output_type": "stream",
     "text": [
      "  42000/ 200000: 2.456479787826538\n"
     ]
    },
    {
     "name": "stderr",
     "output_type": "stream",
     "text": [
      "Training:  22%|██▏       | 43170/200000 [00:36<02:13, 1172.61it/s, loss=2.61]"
     ]
    },
    {
     "name": "stdout",
     "output_type": "stream",
     "text": [
      "  43000/ 200000: 2.4365389347076416\n"
     ]
    },
    {
     "name": "stderr",
     "output_type": "stream",
     "text": [
      "Training:  22%|██▏       | 44210/200000 [00:37<02:15, 1148.49it/s, loss=2.4] "
     ]
    },
    {
     "name": "stdout",
     "output_type": "stream",
     "text": [
      "  44000/ 200000: 1.9942700862884521\n"
     ]
    },
    {
     "name": "stderr",
     "output_type": "stream",
     "text": [
      "Training:  23%|██▎       | 45175/200000 [00:38<02:10, 1186.97it/s, loss=1.99]"
     ]
    },
    {
     "name": "stdout",
     "output_type": "stream",
     "text": [
      "  45000/ 200000: 2.3600049018859863\n"
     ]
    },
    {
     "name": "stderr",
     "output_type": "stream",
     "text": [
      "Training:  23%|██▎       | 46151/200000 [00:39<02:10, 1182.31it/s, loss=2.32]"
     ]
    },
    {
     "name": "stdout",
     "output_type": "stream",
     "text": [
      "  46000/ 200000: 2.451845645904541\n"
     ]
    },
    {
     "name": "stderr",
     "output_type": "stream",
     "text": [
      "Training:  24%|██▎       | 47121/200000 [00:40<02:12, 1154.27it/s, loss=2.17]"
     ]
    },
    {
     "name": "stdout",
     "output_type": "stream",
     "text": [
      "  47000/ 200000: 2.396394729614258\n"
     ]
    },
    {
     "name": "stderr",
     "output_type": "stream",
     "text": [
      "Training:  24%|██▍       | 48227/200000 [00:41<02:05, 1211.17it/s, loss=2.04]"
     ]
    },
    {
     "name": "stdout",
     "output_type": "stream",
     "text": [
      "  48000/ 200000: 1.9923776388168335\n"
     ]
    },
    {
     "name": "stderr",
     "output_type": "stream",
     "text": [
      "Training:  25%|██▍       | 49196/200000 [00:42<02:05, 1202.10it/s, loss=2.22]"
     ]
    },
    {
     "name": "stdout",
     "output_type": "stream",
     "text": [
      "  49000/ 200000: 2.2049500942230225\n"
     ]
    },
    {
     "name": "stderr",
     "output_type": "stream",
     "text": [
      "Training:  25%|██▌       | 50193/200000 [00:42<02:02, 1225.32it/s, loss=2.57]"
     ]
    },
    {
     "name": "stdout",
     "output_type": "stream",
     "text": [
      "  50000/ 200000: 2.3740601539611816\n"
     ]
    },
    {
     "name": "stderr",
     "output_type": "stream",
     "text": [
      "Training:  26%|██▌       | 51158/200000 [00:43<02:05, 1187.96it/s, loss=2.27]"
     ]
    },
    {
     "name": "stdout",
     "output_type": "stream",
     "text": [
      "  51000/ 200000: 2.653730869293213\n"
     ]
    },
    {
     "name": "stderr",
     "output_type": "stream",
     "text": [
      "Training:  26%|██▌       | 52138/200000 [00:44<02:03, 1194.57it/s, loss=2.28]"
     ]
    },
    {
     "name": "stdout",
     "output_type": "stream",
     "text": [
      "  52000/ 200000: 2.2914888858795166\n"
     ]
    },
    {
     "name": "stderr",
     "output_type": "stream",
     "text": [
      "Training:  27%|██▋       | 53128/200000 [00:45<02:04, 1181.94it/s, loss=2.72]"
     ]
    },
    {
     "name": "stdout",
     "output_type": "stream",
     "text": [
      "  53000/ 200000: 2.2320613861083984\n"
     ]
    },
    {
     "name": "stderr",
     "output_type": "stream",
     "text": [
      "Training:  27%|██▋       | 54117/200000 [00:46<02:01, 1202.49it/s, loss=2.26]"
     ]
    },
    {
     "name": "stdout",
     "output_type": "stream",
     "text": [
      "  54000/ 200000: 1.8575185537338257\n"
     ]
    },
    {
     "name": "stderr",
     "output_type": "stream",
     "text": [
      "Training:  28%|██▊       | 55216/200000 [00:47<02:01, 1194.19it/s, loss=2.06]"
     ]
    },
    {
     "name": "stdout",
     "output_type": "stream",
     "text": [
      "  55000/ 200000: 2.3980302810668945\n"
     ]
    },
    {
     "name": "stderr",
     "output_type": "stream",
     "text": [
      "Training:  28%|██▊       | 56203/200000 [00:47<01:57, 1225.24it/s, loss=2.4] "
     ]
    },
    {
     "name": "stdout",
     "output_type": "stream",
     "text": [
      "  56000/ 200000: 2.4868485927581787\n"
     ]
    },
    {
     "name": "stderr",
     "output_type": "stream",
     "text": [
      "Training:  29%|██▊       | 57185/200000 [00:48<01:55, 1240.90it/s, loss=2.14]"
     ]
    },
    {
     "name": "stdout",
     "output_type": "stream",
     "text": [
      "  57000/ 200000: 2.362017869949341\n"
     ]
    },
    {
     "name": "stderr",
     "output_type": "stream",
     "text": [
      "Training:  29%|██▉       | 58153/200000 [00:49<02:00, 1180.03it/s, loss=2.73]"
     ]
    },
    {
     "name": "stdout",
     "output_type": "stream",
     "text": [
      "  58000/ 200000: 2.163804769515991\n"
     ]
    },
    {
     "name": "stderr",
     "output_type": "stream",
     "text": [
      "Training:  30%|██▉       | 59143/200000 [00:50<01:58, 1193.12it/s, loss=1.85]"
     ]
    },
    {
     "name": "stdout",
     "output_type": "stream",
     "text": [
      "  59000/ 200000: 2.192582607269287\n"
     ]
    },
    {
     "name": "stderr",
     "output_type": "stream",
     "text": [
      "Training:  30%|███       | 60241/200000 [00:51<01:54, 1225.48it/s, loss=2.2] "
     ]
    },
    {
     "name": "stdout",
     "output_type": "stream",
     "text": [
      "  60000/ 200000: 2.2767693996429443\n"
     ]
    },
    {
     "name": "stderr",
     "output_type": "stream",
     "text": [
      "Training:  31%|███       | 61208/200000 [00:52<01:58, 1175.85it/s, loss=2.1] "
     ]
    },
    {
     "name": "stdout",
     "output_type": "stream",
     "text": [
      "  61000/ 200000: 2.4345037937164307\n"
     ]
    },
    {
     "name": "stderr",
     "output_type": "stream",
     "text": [
      "Training:  31%|███       | 62196/200000 [00:52<01:54, 1200.62it/s, loss=2.4] "
     ]
    },
    {
     "name": "stdout",
     "output_type": "stream",
     "text": [
      "  62000/ 200000: 1.9487111568450928\n"
     ]
    },
    {
     "name": "stderr",
     "output_type": "stream",
     "text": [
      "Training:  32%|███▏      | 63195/200000 [00:53<01:53, 1206.45it/s, loss=2.29]"
     ]
    },
    {
     "name": "stdout",
     "output_type": "stream",
     "text": [
      "  63000/ 200000: 2.1936869621276855\n"
     ]
    },
    {
     "name": "stderr",
     "output_type": "stream",
     "text": [
      "Training:  32%|███▏      | 64168/200000 [00:54<01:52, 1204.57it/s, loss=2.17]"
     ]
    },
    {
     "name": "stdout",
     "output_type": "stream",
     "text": [
      "  64000/ 200000: 2.2737128734588623\n"
     ]
    },
    {
     "name": "stderr",
     "output_type": "stream",
     "text": [
      "Training:  33%|███▎      | 65146/200000 [00:55<01:49, 1231.66it/s, loss=1.84]"
     ]
    },
    {
     "name": "stdout",
     "output_type": "stream",
     "text": [
      "  65000/ 200000: 2.1871495246887207\n"
     ]
    },
    {
     "name": "stderr",
     "output_type": "stream",
     "text": [
      "Training:  33%|███▎      | 66131/200000 [00:56<01:50, 1216.19it/s, loss=2.24]"
     ]
    },
    {
     "name": "stdout",
     "output_type": "stream",
     "text": [
      "  66000/ 200000: 2.732416868209839\n"
     ]
    },
    {
     "name": "stderr",
     "output_type": "stream",
     "text": [
      "Training:  34%|███▎      | 67228/200000 [00:56<01:51, 1185.67it/s, loss=2.5] "
     ]
    },
    {
     "name": "stdout",
     "output_type": "stream",
     "text": [
      "  67000/ 200000: 2.527059316635132\n"
     ]
    },
    {
     "name": "stderr",
     "output_type": "stream",
     "text": [
      "Training:  34%|███▍      | 68216/200000 [00:57<01:50, 1196.11it/s, loss=2.27]"
     ]
    },
    {
     "name": "stdout",
     "output_type": "stream",
     "text": [
      "  68000/ 200000: 2.0569348335266113\n"
     ]
    },
    {
     "name": "stderr",
     "output_type": "stream",
     "text": [
      "Training:  35%|███▍      | 69199/200000 [00:58<01:47, 1211.88it/s, loss=2.33]"
     ]
    },
    {
     "name": "stdout",
     "output_type": "stream",
     "text": [
      "  69000/ 200000: 2.139300584793091\n"
     ]
    },
    {
     "name": "stderr",
     "output_type": "stream",
     "text": [
      "Training:  35%|███▌      | 70163/200000 [00:59<01:47, 1202.81it/s, loss=2.27]"
     ]
    },
    {
     "name": "stdout",
     "output_type": "stream",
     "text": [
      "  70000/ 200000: 2.1156396865844727\n"
     ]
    },
    {
     "name": "stderr",
     "output_type": "stream",
     "text": [
      "Training:  36%|███▌      | 71162/200000 [01:00<01:48, 1191.20it/s, loss=2.1] "
     ]
    },
    {
     "name": "stdout",
     "output_type": "stream",
     "text": [
      "  71000/ 200000: 2.2424631118774414\n"
     ]
    },
    {
     "name": "stderr",
     "output_type": "stream",
     "text": [
      "Training:  36%|███▌      | 72132/200000 [01:01<01:44, 1223.17it/s, loss=2.24]"
     ]
    },
    {
     "name": "stdout",
     "output_type": "stream",
     "text": [
      "  72000/ 200000: 2.3055551052093506\n"
     ]
    },
    {
     "name": "stderr",
     "output_type": "stream",
     "text": [
      "Training:  37%|███▋      | 73240/200000 [01:01<01:42, 1233.29it/s, loss=2.13]"
     ]
    },
    {
     "name": "stdout",
     "output_type": "stream",
     "text": [
      "  73000/ 200000: 2.3979732990264893\n"
     ]
    },
    {
     "name": "stderr",
     "output_type": "stream",
     "text": [
      "Training:  37%|███▋      | 74213/200000 [01:02<01:47, 1171.58it/s, loss=1.89]"
     ]
    },
    {
     "name": "stdout",
     "output_type": "stream",
     "text": [
      "  74000/ 200000: 2.0647244453430176\n"
     ]
    },
    {
     "name": "stderr",
     "output_type": "stream",
     "text": [
      "Training:  38%|███▊      | 75205/200000 [01:03<01:44, 1188.62it/s, loss=1.98]"
     ]
    },
    {
     "name": "stdout",
     "output_type": "stream",
     "text": [
      "  75000/ 200000: 2.178807497024536\n"
     ]
    },
    {
     "name": "stderr",
     "output_type": "stream",
     "text": [
      "Training:  38%|███▊      | 76190/200000 [01:04<01:41, 1223.33it/s, loss=1.88]"
     ]
    },
    {
     "name": "stdout",
     "output_type": "stream",
     "text": [
      "  76000/ 200000: 1.965941071510315\n"
     ]
    },
    {
     "name": "stderr",
     "output_type": "stream",
     "text": [
      "Training:  39%|███▊      | 77134/200000 [01:05<01:47, 1139.34it/s, loss=2.73]"
     ]
    },
    {
     "name": "stdout",
     "output_type": "stream",
     "text": [
      "  77000/ 200000: 2.1645307540893555\n"
     ]
    },
    {
     "name": "stderr",
     "output_type": "stream",
     "text": [
      "Training:  39%|███▉      | 78124/200000 [01:06<01:42, 1187.34it/s, loss=2.34]"
     ]
    },
    {
     "name": "stdout",
     "output_type": "stream",
     "text": [
      "  78000/ 200000: 2.227570056915283\n"
     ]
    },
    {
     "name": "stderr",
     "output_type": "stream",
     "text": [
      "Training:  40%|███▉      | 79113/200000 [01:07<01:41, 1193.30it/s, loss=2.53]"
     ]
    },
    {
     "name": "stdout",
     "output_type": "stream",
     "text": [
      "  79000/ 200000: 2.0199975967407227\n"
     ]
    },
    {
     "name": "stderr",
     "output_type": "stream",
     "text": [
      "Training:  40%|████      | 80221/200000 [01:07<01:40, 1195.74it/s, loss=2.71]"
     ]
    },
    {
     "name": "stdout",
     "output_type": "stream",
     "text": [
      "  80000/ 200000: 1.9500869512557983\n"
     ]
    },
    {
     "name": "stderr",
     "output_type": "stream",
     "text": [
      "Training:  41%|████      | 81199/200000 [01:08<01:38, 1211.56it/s, loss=2.06]"
     ]
    },
    {
     "name": "stdout",
     "output_type": "stream",
     "text": [
      "  81000/ 200000: 2.4332797527313232\n"
     ]
    },
    {
     "name": "stderr",
     "output_type": "stream",
     "text": [
      "Training:  41%|████      | 82159/200000 [01:09<01:39, 1182.04it/s, loss=2.61]"
     ]
    },
    {
     "name": "stdout",
     "output_type": "stream",
     "text": [
      "  82000/ 200000: 2.237455129623413\n"
     ]
    },
    {
     "name": "stderr",
     "output_type": "stream",
     "text": [
      "Training:  42%|████▏     | 83141/200000 [01:10<01:38, 1185.63it/s, loss=1.77]"
     ]
    },
    {
     "name": "stdout",
     "output_type": "stream",
     "text": [
      "  83000/ 200000: 2.260098934173584\n"
     ]
    },
    {
     "name": "stderr",
     "output_type": "stream",
     "text": [
      "Training:  42%|████▏     | 84136/200000 [01:11<01:38, 1172.70it/s, loss=2.02]"
     ]
    },
    {
     "name": "stdout",
     "output_type": "stream",
     "text": [
      "  84000/ 200000: 2.3419532775878906\n"
     ]
    },
    {
     "name": "stderr",
     "output_type": "stream",
     "text": [
      "Training:  43%|████▎     | 85122/200000 [01:12<01:37, 1181.78it/s, loss=2.07]"
     ]
    },
    {
     "name": "stdout",
     "output_type": "stream",
     "text": [
      "  85000/ 200000: 2.487919807434082\n"
     ]
    },
    {
     "name": "stderr",
     "output_type": "stream",
     "text": [
      "Training:  43%|████▎     | 86221/200000 [01:12<01:37, 1171.93it/s, loss=2.2] "
     ]
    },
    {
     "name": "stdout",
     "output_type": "stream",
     "text": [
      "  86000/ 200000: 2.212599754333496\n"
     ]
    },
    {
     "name": "stderr",
     "output_type": "stream",
     "text": [
      "Training:  44%|████▎     | 87196/200000 [01:13<01:37, 1161.76it/s, loss=2.47]"
     ]
    },
    {
     "name": "stdout",
     "output_type": "stream",
     "text": [
      "  87000/ 200000: 2.148620367050171\n"
     ]
    },
    {
     "name": "stderr",
     "output_type": "stream",
     "text": [
      "Training:  44%|████▍     | 88149/200000 [01:14<01:34, 1182.83it/s, loss=1.92]"
     ]
    },
    {
     "name": "stdout",
     "output_type": "stream",
     "text": [
      "  88000/ 200000: 2.444699764251709\n"
     ]
    },
    {
     "name": "stderr",
     "output_type": "stream",
     "text": [
      "Training:  45%|████▍     | 89132/200000 [01:15<01:33, 1189.06it/s, loss=2.26]"
     ]
    },
    {
     "name": "stdout",
     "output_type": "stream",
     "text": [
      "  89000/ 200000: 2.3693668842315674\n"
     ]
    },
    {
     "name": "stderr",
     "output_type": "stream",
     "text": [
      "Training:  45%|████▌     | 90232/200000 [01:16<01:30, 1218.41it/s, loss=2.39]"
     ]
    },
    {
     "name": "stdout",
     "output_type": "stream",
     "text": [
      "  90000/ 200000: 2.2003393173217773\n"
     ]
    },
    {
     "name": "stderr",
     "output_type": "stream",
     "text": [
      "Training:  46%|████▌     | 91188/200000 [01:17<01:32, 1172.82it/s, loss=1.83]"
     ]
    },
    {
     "name": "stdout",
     "output_type": "stream",
     "text": [
      "  91000/ 200000: 2.3945322036743164\n"
     ]
    },
    {
     "name": "stderr",
     "output_type": "stream",
     "text": [
      "Training:  46%|████▌     | 92167/200000 [01:17<01:30, 1191.68it/s, loss=2.09]"
     ]
    },
    {
     "name": "stdout",
     "output_type": "stream",
     "text": [
      "  92000/ 200000: 2.7200825214385986\n"
     ]
    },
    {
     "name": "stderr",
     "output_type": "stream",
     "text": [
      "Training:  47%|████▋     | 93169/200000 [01:18<01:30, 1182.84it/s, loss=2.09]"
     ]
    },
    {
     "name": "stdout",
     "output_type": "stream",
     "text": [
      "  93000/ 200000: 2.315903902053833\n"
     ]
    },
    {
     "name": "stderr",
     "output_type": "stream",
     "text": [
      "Training:  47%|████▋     | 94152/200000 [01:19<01:27, 1206.50it/s, loss=2.47]"
     ]
    },
    {
     "name": "stdout",
     "output_type": "stream",
     "text": [
      "  94000/ 200000: 1.9835317134857178\n"
     ]
    },
    {
     "name": "stderr",
     "output_type": "stream",
     "text": [
      "Training:  48%|████▊     | 95132/200000 [01:20<01:25, 1232.39it/s, loss=2.68]"
     ]
    },
    {
     "name": "stdout",
     "output_type": "stream",
     "text": [
      "  95000/ 200000: 2.233776569366455\n"
     ]
    },
    {
     "name": "stderr",
     "output_type": "stream",
     "text": [
      "Training:  48%|████▊     | 96226/200000 [01:21<01:25, 1210.35it/s, loss=2.23]"
     ]
    },
    {
     "name": "stdout",
     "output_type": "stream",
     "text": [
      "  96000/ 200000: 1.8697807788848877\n"
     ]
    },
    {
     "name": "stderr",
     "output_type": "stream",
     "text": [
      "Training:  49%|████▊     | 97186/200000 [01:22<01:35, 1073.78it/s, loss=1.67]"
     ]
    },
    {
     "name": "stdout",
     "output_type": "stream",
     "text": [
      "  97000/ 200000: 2.50788950920105\n"
     ]
    },
    {
     "name": "stderr",
     "output_type": "stream",
     "text": [
      "Training:  49%|████▉     | 98154/200000 [01:23<01:25, 1195.67it/s, loss=2.4] "
     ]
    },
    {
     "name": "stdout",
     "output_type": "stream",
     "text": [
      "  98000/ 200000: 2.3863584995269775\n"
     ]
    },
    {
     "name": "stderr",
     "output_type": "stream",
     "text": [
      "Training:  50%|████▉     | 99130/200000 [01:23<01:21, 1240.03it/s, loss=2.02]"
     ]
    },
    {
     "name": "stdout",
     "output_type": "stream",
     "text": [
      "  99000/ 200000: 2.1807072162628174\n"
     ]
    },
    {
     "name": "stderr",
     "output_type": "stream",
     "text": [
      "Training:  50%|█████     | 100217/200000 [01:24<01:22, 1206.52it/s, loss=1.92]"
     ]
    },
    {
     "name": "stdout",
     "output_type": "stream",
     "text": [
      " 100000/ 200000: 2.055349588394165\n"
     ]
    },
    {
     "name": "stderr",
     "output_type": "stream",
     "text": [
      "Training:  51%|█████     | 101189/200000 [01:25<01:24, 1174.92it/s, loss=2.08]"
     ]
    },
    {
     "name": "stdout",
     "output_type": "stream",
     "text": [
      " 101000/ 200000: 1.7751133441925049\n"
     ]
    },
    {
     "name": "stderr",
     "output_type": "stream",
     "text": [
      "Training:  51%|█████     | 102172/200000 [01:26<01:21, 1194.78it/s, loss=1.94]"
     ]
    },
    {
     "name": "stdout",
     "output_type": "stream",
     "text": [
      " 102000/ 200000: 1.885825514793396\n"
     ]
    },
    {
     "name": "stderr",
     "output_type": "stream",
     "text": [
      "Training:  52%|█████▏    | 103156/200000 [01:27<01:21, 1195.53it/s, loss=2.29]"
     ]
    },
    {
     "name": "stdout",
     "output_type": "stream",
     "text": [
      " 103000/ 200000: 2.3605639934539795\n"
     ]
    },
    {
     "name": "stderr",
     "output_type": "stream",
     "text": [
      "Training:  52%|█████▏    | 104131/200000 [01:28<01:18, 1226.60it/s, loss=1.96]"
     ]
    },
    {
     "name": "stdout",
     "output_type": "stream",
     "text": [
      " 104000/ 200000: 2.3584988117218018\n"
     ]
    },
    {
     "name": "stderr",
     "output_type": "stream",
     "text": [
      "Training:  53%|█████▎    | 105228/200000 [01:28<01:17, 1219.63it/s, loss=1.96]"
     ]
    },
    {
     "name": "stdout",
     "output_type": "stream",
     "text": [
      " 105000/ 200000: 1.750152349472046\n"
     ]
    },
    {
     "name": "stderr",
     "output_type": "stream",
     "text": [
      "Training:  53%|█████▎    | 106206/200000 [01:29<01:18, 1191.19it/s, loss=2.39]"
     ]
    },
    {
     "name": "stdout",
     "output_type": "stream",
     "text": [
      " 106000/ 200000: 2.374819278717041\n"
     ]
    },
    {
     "name": "stderr",
     "output_type": "stream",
     "text": [
      "Training:  54%|█████▎    | 107196/200000 [01:30<01:18, 1183.79it/s, loss=1.87]"
     ]
    },
    {
     "name": "stdout",
     "output_type": "stream",
     "text": [
      " 107000/ 200000: 2.305331230163574\n"
     ]
    },
    {
     "name": "stderr",
     "output_type": "stream",
     "text": [
      "Training:  54%|█████▍    | 108188/200000 [01:31<01:20, 1142.96it/s, loss=2.05]"
     ]
    },
    {
     "name": "stdout",
     "output_type": "stream",
     "text": [
      " 108000/ 200000: 2.08137845993042\n"
     ]
    },
    {
     "name": "stderr",
     "output_type": "stream",
     "text": [
      "Training:  55%|█████▍    | 109169/200000 [01:32<01:16, 1187.46it/s, loss=2.25]"
     ]
    },
    {
     "name": "stdout",
     "output_type": "stream",
     "text": [
      " 109000/ 200000: 1.8322758674621582\n"
     ]
    },
    {
     "name": "stderr",
     "output_type": "stream",
     "text": [
      "Training:  55%|█████▌    | 110132/200000 [01:33<01:16, 1175.30it/s, loss=2.07]"
     ]
    },
    {
     "name": "stdout",
     "output_type": "stream",
     "text": [
      " 110000/ 200000: 2.12715482711792\n"
     ]
    },
    {
     "name": "stderr",
     "output_type": "stream",
     "text": [
      "Training:  56%|█████▌    | 111227/200000 [01:33<01:14, 1191.91it/s, loss=2.12]"
     ]
    },
    {
     "name": "stdout",
     "output_type": "stream",
     "text": [
      " 111000/ 200000: 1.7917159795761108\n"
     ]
    },
    {
     "name": "stderr",
     "output_type": "stream",
     "text": [
      "Training:  56%|█████▌    | 112215/200000 [01:34<01:14, 1170.90it/s, loss=2.24]"
     ]
    },
    {
     "name": "stdout",
     "output_type": "stream",
     "text": [
      " 112000/ 200000: 2.006443977355957\n"
     ]
    },
    {
     "name": "stderr",
     "output_type": "stream",
     "text": [
      "Training:  57%|█████▋    | 113196/200000 [01:35<01:12, 1189.55it/s, loss=2.13]"
     ]
    },
    {
     "name": "stdout",
     "output_type": "stream",
     "text": [
      " 113000/ 200000: 2.3978419303894043\n"
     ]
    },
    {
     "name": "stderr",
     "output_type": "stream",
     "text": [
      "Training:  57%|█████▋    | 114165/200000 [01:36<01:10, 1213.17it/s, loss=2.14]"
     ]
    },
    {
     "name": "stdout",
     "output_type": "stream",
     "text": [
      " 114000/ 200000: 2.1713485717773438\n"
     ]
    },
    {
     "name": "stderr",
     "output_type": "stream",
     "text": [
      "Training:  58%|█████▊    | 115121/200000 [01:37<01:12, 1174.20it/s, loss=2.42]"
     ]
    },
    {
     "name": "stdout",
     "output_type": "stream",
     "text": [
      " 115000/ 200000: 1.6801296472549438\n"
     ]
    },
    {
     "name": "stderr",
     "output_type": "stream",
     "text": [
      "Training:  58%|█████▊    | 116216/200000 [01:38<01:10, 1188.36it/s, loss=2.36]"
     ]
    },
    {
     "name": "stdout",
     "output_type": "stream",
     "text": [
      " 116000/ 200000: 2.0753750801086426\n"
     ]
    },
    {
     "name": "stderr",
     "output_type": "stream",
     "text": [
      "Training:  59%|█████▊    | 117200/200000 [01:38<01:09, 1194.03it/s, loss=2.32]"
     ]
    },
    {
     "name": "stdout",
     "output_type": "stream",
     "text": [
      " 117000/ 200000: 2.057286024093628\n"
     ]
    },
    {
     "name": "stderr",
     "output_type": "stream",
     "text": [
      "Training:  59%|█████▉    | 118184/200000 [01:39<01:09, 1182.01it/s, loss=2.12]"
     ]
    },
    {
     "name": "stdout",
     "output_type": "stream",
     "text": [
      " 118000/ 200000: 1.8616198301315308\n"
     ]
    },
    {
     "name": "stderr",
     "output_type": "stream",
     "text": [
      "Training:  60%|█████▉    | 119159/200000 [01:40<01:07, 1192.91it/s, loss=2.32]"
     ]
    },
    {
     "name": "stdout",
     "output_type": "stream",
     "text": [
      " 119000/ 200000: 2.1932711601257324\n"
     ]
    },
    {
     "name": "stderr",
     "output_type": "stream",
     "text": [
      "Training:  60%|██████    | 120138/200000 [01:41<01:05, 1221.33it/s, loss=2.19]"
     ]
    },
    {
     "name": "stdout",
     "output_type": "stream",
     "text": [
      " 120000/ 200000: 1.9066942930221558\n"
     ]
    },
    {
     "name": "stderr",
     "output_type": "stream",
     "text": [
      "Training:  61%|██████    | 121128/200000 [01:42<01:04, 1227.05it/s, loss=1.86]"
     ]
    },
    {
     "name": "stdout",
     "output_type": "stream",
     "text": [
      " 121000/ 200000: 2.8814151287078857\n"
     ]
    },
    {
     "name": "stderr",
     "output_type": "stream",
     "text": [
      "Training:  61%|██████    | 122223/200000 [01:43<01:04, 1203.96it/s, loss=2.09]"
     ]
    },
    {
     "name": "stdout",
     "output_type": "stream",
     "text": [
      " 122000/ 200000: 2.332716226577759\n"
     ]
    },
    {
     "name": "stderr",
     "output_type": "stream",
     "text": [
      "Training:  62%|██████▏   | 123218/200000 [01:43<01:04, 1196.70it/s, loss=1.97]"
     ]
    },
    {
     "name": "stdout",
     "output_type": "stream",
     "text": [
      " 123000/ 200000: 2.1563057899475098\n"
     ]
    },
    {
     "name": "stderr",
     "output_type": "stream",
     "text": [
      "Training:  62%|██████▏   | 124206/200000 [01:44<01:02, 1217.74it/s, loss=2.1] "
     ]
    },
    {
     "name": "stdout",
     "output_type": "stream",
     "text": [
      " 124000/ 200000: 2.4828078746795654\n"
     ]
    },
    {
     "name": "stderr",
     "output_type": "stream",
     "text": [
      "Training:  63%|██████▎   | 125183/200000 [01:45<01:01, 1223.88it/s, loss=2]   "
     ]
    },
    {
     "name": "stdout",
     "output_type": "stream",
     "text": [
      " 125000/ 200000: 2.3191535472869873\n"
     ]
    },
    {
     "name": "stderr",
     "output_type": "stream",
     "text": [
      "Training:  63%|██████▎   | 126150/200000 [01:46<01:02, 1189.94it/s, loss=2.18]"
     ]
    },
    {
     "name": "stdout",
     "output_type": "stream",
     "text": [
      " 126000/ 200000: 1.7626621723175049\n"
     ]
    },
    {
     "name": "stderr",
     "output_type": "stream",
     "text": [
      "Training:  64%|██████▎   | 127135/200000 [01:47<01:02, 1168.90it/s, loss=2.46]"
     ]
    },
    {
     "name": "stdout",
     "output_type": "stream",
     "text": [
      " 127000/ 200000: 2.319838523864746\n"
     ]
    },
    {
     "name": "stderr",
     "output_type": "stream",
     "text": [
      "Training:  64%|██████▍   | 128119/200000 [01:48<01:00, 1183.65it/s, loss=2.03]"
     ]
    },
    {
     "name": "stdout",
     "output_type": "stream",
     "text": [
      " 128000/ 200000: 1.8932876586914062\n"
     ]
    },
    {
     "name": "stderr",
     "output_type": "stream",
     "text": [
      "Training:  65%|██████▍   | 129204/200000 [01:49<01:03, 1121.65it/s, loss=2]   "
     ]
    },
    {
     "name": "stdout",
     "output_type": "stream",
     "text": [
      " 129000/ 200000: 2.4361512660980225\n"
     ]
    },
    {
     "name": "stderr",
     "output_type": "stream",
     "text": [
      "Training:  65%|██████▌   | 130147/200000 [01:49<01:00, 1159.07it/s, loss=1.78]"
     ]
    },
    {
     "name": "stdout",
     "output_type": "stream",
     "text": [
      " 130000/ 200000: 2.1718156337738037\n"
     ]
    },
    {
     "name": "stderr",
     "output_type": "stream",
     "text": [
      "Training:  66%|██████▌   | 131210/200000 [01:50<00:58, 1168.91it/s, loss=2.03]"
     ]
    },
    {
     "name": "stdout",
     "output_type": "stream",
     "text": [
      " 131000/ 200000: 2.161431074142456\n"
     ]
    },
    {
     "name": "stderr",
     "output_type": "stream",
     "text": [
      "Training:  66%|██████▌   | 132176/200000 [01:51<00:58, 1162.59it/s, loss=2.2] "
     ]
    },
    {
     "name": "stdout",
     "output_type": "stream",
     "text": [
      " 132000/ 200000: 2.329772710800171\n"
     ]
    },
    {
     "name": "stderr",
     "output_type": "stream",
     "text": [
      "Training:  67%|██████▋   | 133203/200000 [01:52<01:02, 1062.00it/s, loss=2.28]"
     ]
    },
    {
     "name": "stdout",
     "output_type": "stream",
     "text": [
      " 133000/ 200000: 2.0629382133483887\n"
     ]
    },
    {
     "name": "stderr",
     "output_type": "stream",
     "text": [
      "Training:  67%|██████▋   | 134212/200000 [01:53<00:58, 1131.41it/s, loss=2.1] "
     ]
    },
    {
     "name": "stdout",
     "output_type": "stream",
     "text": [
      " 134000/ 200000: 2.043893575668335\n"
     ]
    },
    {
     "name": "stderr",
     "output_type": "stream",
     "text": [
      "Training:  68%|██████▊   | 135177/200000 [01:54<00:53, 1207.61it/s, loss=2.05]"
     ]
    },
    {
     "name": "stdout",
     "output_type": "stream",
     "text": [
      " 135000/ 200000: 2.1070563793182373\n"
     ]
    },
    {
     "name": "stderr",
     "output_type": "stream",
     "text": [
      "Training:  68%|██████▊   | 136146/200000 [01:55<00:54, 1161.30it/s, loss=2.09]"
     ]
    },
    {
     "name": "stdout",
     "output_type": "stream",
     "text": [
      " 136000/ 200000: 2.6339075565338135\n"
     ]
    },
    {
     "name": "stderr",
     "output_type": "stream",
     "text": [
      "Training:  69%|██████▊   | 137233/200000 [01:56<00:53, 1172.66it/s, loss=2.34]"
     ]
    },
    {
     "name": "stdout",
     "output_type": "stream",
     "text": [
      " 137000/ 200000: 2.3344173431396484\n"
     ]
    },
    {
     "name": "stderr",
     "output_type": "stream",
     "text": [
      "Training:  69%|██████▉   | 138180/200000 [01:57<00:52, 1180.22it/s, loss=2.32]"
     ]
    },
    {
     "name": "stdout",
     "output_type": "stream",
     "text": [
      " 138000/ 200000: 1.8540741205215454\n"
     ]
    },
    {
     "name": "stderr",
     "output_type": "stream",
     "text": [
      "Training:  70%|██████▉   | 139158/200000 [01:57<00:49, 1221.39it/s, loss=2.09]"
     ]
    },
    {
     "name": "stdout",
     "output_type": "stream",
     "text": [
      " 139000/ 200000: 2.142441987991333\n"
     ]
    },
    {
     "name": "stderr",
     "output_type": "stream",
     "text": [
      "Training:  70%|███████   | 140137/200000 [01:58<00:48, 1228.39it/s, loss=1.94]"
     ]
    },
    {
     "name": "stdout",
     "output_type": "stream",
     "text": [
      " 140000/ 200000: 2.3004910945892334\n"
     ]
    },
    {
     "name": "stderr",
     "output_type": "stream",
     "text": [
      "Training:  71%|███████   | 141228/200000 [01:59<00:48, 1212.44it/s, loss=2.25]"
     ]
    },
    {
     "name": "stdout",
     "output_type": "stream",
     "text": [
      " 141000/ 200000: 1.8655976057052612\n"
     ]
    },
    {
     "name": "stderr",
     "output_type": "stream",
     "text": [
      "Training:  71%|███████   | 142187/200000 [02:00<00:49, 1175.63it/s, loss=1.82]"
     ]
    },
    {
     "name": "stdout",
     "output_type": "stream",
     "text": [
      " 142000/ 200000: 2.2470767498016357\n"
     ]
    },
    {
     "name": "stderr",
     "output_type": "stream",
     "text": [
      "Training:  72%|███████▏  | 143174/200000 [02:01<00:46, 1210.08it/s, loss=1.88]"
     ]
    },
    {
     "name": "stdout",
     "output_type": "stream",
     "text": [
      " 143000/ 200000: 2.0232248306274414\n"
     ]
    },
    {
     "name": "stderr",
     "output_type": "stream",
     "text": [
      "Training:  72%|███████▏  | 144176/200000 [02:02<00:46, 1190.02it/s, loss=1.98]"
     ]
    },
    {
     "name": "stdout",
     "output_type": "stream",
     "text": [
      " 144000/ 200000: 2.180055856704712\n"
     ]
    },
    {
     "name": "stderr",
     "output_type": "stream",
     "text": [
      "Training:  73%|███████▎  | 145165/200000 [02:02<00:46, 1184.88it/s, loss=2.76]"
     ]
    },
    {
     "name": "stdout",
     "output_type": "stream",
     "text": [
      " 145000/ 200000: 2.191044807434082\n"
     ]
    },
    {
     "name": "stderr",
     "output_type": "stream",
     "text": [
      "Training:  73%|███████▎  | 146158/200000 [02:03<00:44, 1209.34it/s, loss=2.42]"
     ]
    },
    {
     "name": "stdout",
     "output_type": "stream",
     "text": [
      " 146000/ 200000: 2.0480966567993164\n"
     ]
    },
    {
     "name": "stderr",
     "output_type": "stream",
     "text": [
      "Training:  74%|███████▎  | 147118/200000 [02:04<00:45, 1165.69it/s, loss=2.15]"
     ]
    },
    {
     "name": "stdout",
     "output_type": "stream",
     "text": [
      " 147000/ 200000: 2.021182060241699\n"
     ]
    },
    {
     "name": "stderr",
     "output_type": "stream",
     "text": [
      "Training:  74%|███████▍  | 148217/200000 [02:05<00:42, 1207.77it/s, loss=2.19]"
     ]
    },
    {
     "name": "stdout",
     "output_type": "stream",
     "text": [
      " 148000/ 200000: 2.286648750305176\n"
     ]
    },
    {
     "name": "stderr",
     "output_type": "stream",
     "text": [
      "Training:  75%|███████▍  | 149197/200000 [02:06<00:42, 1184.22it/s, loss=2.17]"
     ]
    },
    {
     "name": "stdout",
     "output_type": "stream",
     "text": [
      " 149000/ 200000: 2.1145434379577637\n"
     ]
    },
    {
     "name": "stderr",
     "output_type": "stream",
     "text": [
      "Training:  75%|███████▌  | 150166/200000 [02:07<00:42, 1172.11it/s, loss=2.33]"
     ]
    },
    {
     "name": "stdout",
     "output_type": "stream",
     "text": [
      " 150000/ 200000: 2.51775860786438\n"
     ]
    },
    {
     "name": "stderr",
     "output_type": "stream",
     "text": [
      "Training:  76%|███████▌  | 151152/200000 [02:07<00:41, 1170.23it/s, loss=2.4] "
     ]
    },
    {
     "name": "stdout",
     "output_type": "stream",
     "text": [
      " 151000/ 200000: 2.1932902336120605\n"
     ]
    },
    {
     "name": "stderr",
     "output_type": "stream",
     "text": [
      "Training:  76%|███████▌  | 152121/200000 [02:08<00:41, 1152.91it/s, loss=2.06]"
     ]
    },
    {
     "name": "stdout",
     "output_type": "stream",
     "text": [
      " 152000/ 200000: 1.9642406702041626\n"
     ]
    },
    {
     "name": "stderr",
     "output_type": "stream",
     "text": [
      "Training:  77%|███████▋  | 153220/200000 [02:09<00:39, 1181.86it/s, loss=2.06]"
     ]
    },
    {
     "name": "stdout",
     "output_type": "stream",
     "text": [
      " 153000/ 200000: 2.2255115509033203\n"
     ]
    },
    {
     "name": "stderr",
     "output_type": "stream",
     "text": [
      "Training:  77%|███████▋  | 154184/200000 [02:10<00:40, 1144.50it/s, loss=2.2] "
     ]
    },
    {
     "name": "stdout",
     "output_type": "stream",
     "text": [
      " 154000/ 200000: 1.9147695302963257\n"
     ]
    },
    {
     "name": "stderr",
     "output_type": "stream",
     "text": [
      "Training:  78%|███████▊  | 155138/200000 [02:11<00:37, 1190.76it/s, loss=2.33]"
     ]
    },
    {
     "name": "stdout",
     "output_type": "stream",
     "text": [
      " 155000/ 200000: 1.9854497909545898\n"
     ]
    },
    {
     "name": "stderr",
     "output_type": "stream",
     "text": [
      "Training:  78%|███████▊  | 156219/200000 [02:12<00:36, 1192.83it/s, loss=2.3] "
     ]
    },
    {
     "name": "stdout",
     "output_type": "stream",
     "text": [
      " 156000/ 200000: 1.9239885807037354\n"
     ]
    },
    {
     "name": "stderr",
     "output_type": "stream",
     "text": [
      "Training:  79%|███████▊  | 157194/200000 [02:13<00:35, 1197.14it/s, loss=2.26]"
     ]
    },
    {
     "name": "stdout",
     "output_type": "stream",
     "text": [
      " 157000/ 200000: 1.9943230152130127\n"
     ]
    },
    {
     "name": "stderr",
     "output_type": "stream",
     "text": [
      "Training:  79%|███████▉  | 158179/200000 [02:13<00:34, 1210.79it/s, loss=2.12]"
     ]
    },
    {
     "name": "stdout",
     "output_type": "stream",
     "text": [
      " 158000/ 200000: 2.171233654022217\n"
     ]
    },
    {
     "name": "stderr",
     "output_type": "stream",
     "text": [
      "Training:  80%|███████▉  | 159157/200000 [02:14<00:33, 1213.60it/s, loss=1.84]"
     ]
    },
    {
     "name": "stdout",
     "output_type": "stream",
     "text": [
      " 159000/ 200000: 2.2529823780059814\n"
     ]
    },
    {
     "name": "stderr",
     "output_type": "stream",
     "text": [
      "Training:  80%|████████  | 160236/200000 [02:15<00:33, 1196.24it/s, loss=2.14]"
     ]
    },
    {
     "name": "stdout",
     "output_type": "stream",
     "text": [
      " 160000/ 200000: 2.120514392852783\n"
     ]
    },
    {
     "name": "stderr",
     "output_type": "stream",
     "text": [
      "Training:  81%|████████  | 161222/200000 [02:16<00:33, 1159.50it/s, loss=2.25]"
     ]
    },
    {
     "name": "stdout",
     "output_type": "stream",
     "text": [
      " 161000/ 200000: 1.780804991722107\n"
     ]
    },
    {
     "name": "stderr",
     "output_type": "stream",
     "text": [
      "Training:  81%|████████  | 162184/200000 [02:17<00:32, 1170.00it/s, loss=2.19]"
     ]
    },
    {
     "name": "stdout",
     "output_type": "stream",
     "text": [
      " 162000/ 200000: 1.7489227056503296\n"
     ]
    },
    {
     "name": "stderr",
     "output_type": "stream",
     "text": [
      "Training:  82%|████████▏ | 163154/200000 [02:18<00:32, 1146.52it/s, loss=1.89]"
     ]
    },
    {
     "name": "stdout",
     "output_type": "stream",
     "text": [
      " 163000/ 200000: 2.3269314765930176\n"
     ]
    },
    {
     "name": "stderr",
     "output_type": "stream",
     "text": [
      "Training:  82%|████████▏ | 164227/200000 [02:19<00:31, 1149.38it/s, loss=2.16]"
     ]
    },
    {
     "name": "stdout",
     "output_type": "stream",
     "text": [
      " 164000/ 200000: 2.016123056411743\n"
     ]
    },
    {
     "name": "stderr",
     "output_type": "stream",
     "text": [
      "Training:  83%|████████▎ | 165202/200000 [02:19<00:30, 1155.78it/s, loss=1.76]"
     ]
    },
    {
     "name": "stdout",
     "output_type": "stream",
     "text": [
      " 165000/ 200000: 2.10675311088562\n"
     ]
    },
    {
     "name": "stderr",
     "output_type": "stream",
     "text": [
      "Training:  83%|████████▎ | 166171/200000 [02:20<00:30, 1125.24it/s, loss=2.34]"
     ]
    },
    {
     "name": "stdout",
     "output_type": "stream",
     "text": [
      " 166000/ 200000: 2.0171611309051514\n"
     ]
    },
    {
     "name": "stderr",
     "output_type": "stream",
     "text": [
      "Training:  84%|████████▎ | 167123/200000 [02:21<00:28, 1143.40it/s, loss=1.92]"
     ]
    },
    {
     "name": "stdout",
     "output_type": "stream",
     "text": [
      " 167000/ 200000: 2.5309481620788574\n"
     ]
    },
    {
     "name": "stderr",
     "output_type": "stream",
     "text": [
      "Training:  84%|████████▍ | 168198/200000 [02:22<00:27, 1170.07it/s, loss=2.38]"
     ]
    },
    {
     "name": "stdout",
     "output_type": "stream",
     "text": [
      " 168000/ 200000: 1.985196590423584\n"
     ]
    },
    {
     "name": "stderr",
     "output_type": "stream",
     "text": [
      "Training:  85%|████████▍ | 169153/200000 [02:23<00:27, 1136.65it/s, loss=2.35]"
     ]
    },
    {
     "name": "stdout",
     "output_type": "stream",
     "text": [
      " 169000/ 200000: 2.3116140365600586\n"
     ]
    },
    {
     "name": "stderr",
     "output_type": "stream",
     "text": [
      "Training:  85%|████████▌ | 170241/200000 [02:24<00:26, 1143.89it/s, loss=1.97]"
     ]
    },
    {
     "name": "stdout",
     "output_type": "stream",
     "text": [
      " 170000/ 200000: 1.923036813735962\n"
     ]
    },
    {
     "name": "stderr",
     "output_type": "stream",
     "text": [
      "Training:  86%|████████▌ | 171221/200000 [02:25<00:23, 1207.66it/s, loss=1.98]"
     ]
    },
    {
     "name": "stdout",
     "output_type": "stream",
     "text": [
      " 171000/ 200000: 2.192255973815918\n"
     ]
    },
    {
     "name": "stderr",
     "output_type": "stream",
     "text": [
      "Training:  86%|████████▌ | 172190/200000 [02:25<00:24, 1146.20it/s, loss=2.67]"
     ]
    },
    {
     "name": "stdout",
     "output_type": "stream",
     "text": [
      " 172000/ 200000: 1.83648681640625\n"
     ]
    },
    {
     "name": "stderr",
     "output_type": "stream",
     "text": [
      "Training:  87%|████████▋ | 173158/200000 [02:26<00:23, 1159.78it/s, loss=2.23]"
     ]
    },
    {
     "name": "stdout",
     "output_type": "stream",
     "text": [
      " 173000/ 200000: 2.261711835861206\n"
     ]
    },
    {
     "name": "stderr",
     "output_type": "stream",
     "text": [
      "Training:  87%|████████▋ | 174106/200000 [02:27<00:23, 1099.21it/s, loss=2.14]"
     ]
    },
    {
     "name": "stdout",
     "output_type": "stream",
     "text": [
      " 174000/ 200000: 1.969690203666687\n"
     ]
    },
    {
     "name": "stderr",
     "output_type": "stream",
     "text": [
      "Training:  88%|████████▊ | 175179/200000 [02:28<00:21, 1162.77it/s, loss=2.19]"
     ]
    },
    {
     "name": "stdout",
     "output_type": "stream",
     "text": [
      " 175000/ 200000: 2.400756597518921\n"
     ]
    },
    {
     "name": "stderr",
     "output_type": "stream",
     "text": [
      "Training:  88%|████████▊ | 176168/200000 [02:29<00:20, 1189.34it/s, loss=2.35]"
     ]
    },
    {
     "name": "stdout",
     "output_type": "stream",
     "text": [
      " 176000/ 200000: 2.339294910430908\n"
     ]
    },
    {
     "name": "stderr",
     "output_type": "stream",
     "text": [
      "Training:  89%|████████▊ | 177154/200000 [02:30<00:19, 1198.86it/s, loss=1.8] "
     ]
    },
    {
     "name": "stdout",
     "output_type": "stream",
     "text": [
      " 177000/ 200000: 2.5396108627319336\n"
     ]
    },
    {
     "name": "stderr",
     "output_type": "stream",
     "text": [
      "Training:  89%|████████▉ | 178153/200000 [02:31<00:17, 1248.73it/s, loss=1.87]"
     ]
    },
    {
     "name": "stdout",
     "output_type": "stream",
     "text": [
      " 178000/ 200000: 2.283803939819336\n"
     ]
    },
    {
     "name": "stderr",
     "output_type": "stream",
     "text": [
      "Training:  90%|████████▉ | 179224/200000 [02:31<00:18, 1123.79it/s, loss=2.28]"
     ]
    },
    {
     "name": "stdout",
     "output_type": "stream",
     "text": [
      " 179000/ 200000: 1.826642632484436\n"
     ]
    },
    {
     "name": "stderr",
     "output_type": "stream",
     "text": [
      "Training:  90%|█████████ | 180180/200000 [02:32<00:16, 1168.54it/s, loss=1.92]"
     ]
    },
    {
     "name": "stdout",
     "output_type": "stream",
     "text": [
      " 180000/ 200000: 1.92389976978302\n"
     ]
    },
    {
     "name": "stderr",
     "output_type": "stream",
     "text": [
      "Training:  91%|█████████ | 181155/200000 [02:33<00:16, 1173.07it/s, loss=2.94]"
     ]
    },
    {
     "name": "stdout",
     "output_type": "stream",
     "text": [
      " 181000/ 200000: 2.4277992248535156\n"
     ]
    },
    {
     "name": "stderr",
     "output_type": "stream",
     "text": [
      "Training:  91%|█████████ | 182141/200000 [02:34<00:15, 1167.92it/s, loss=1.73]"
     ]
    },
    {
     "name": "stdout",
     "output_type": "stream",
     "text": [
      " 182000/ 200000: 2.2739903926849365\n"
     ]
    },
    {
     "name": "stderr",
     "output_type": "stream",
     "text": [
      "Training:  92%|█████████▏| 183248/200000 [02:35<00:13, 1212.31it/s, loss=2.14]"
     ]
    },
    {
     "name": "stdout",
     "output_type": "stream",
     "text": [
      " 183000/ 200000: 2.298973321914673\n"
     ]
    },
    {
     "name": "stderr",
     "output_type": "stream",
     "text": [
      "Training:  92%|█████████▏| 184222/200000 [02:36<00:13, 1210.71it/s, loss=2.26]"
     ]
    },
    {
     "name": "stdout",
     "output_type": "stream",
     "text": [
      " 184000/ 200000: 2.067533254623413\n"
     ]
    },
    {
     "name": "stderr",
     "output_type": "stream",
     "text": [
      "Training:  93%|█████████▎| 185205/200000 [02:36<00:12, 1194.01it/s, loss=2.2] "
     ]
    },
    {
     "name": "stdout",
     "output_type": "stream",
     "text": [
      " 185000/ 200000: 2.4353840351104736\n"
     ]
    },
    {
     "name": "stderr",
     "output_type": "stream",
     "text": [
      "Training:  93%|█████████▎| 186175/200000 [02:37<00:11, 1165.47it/s, loss=2.1] "
     ]
    },
    {
     "name": "stdout",
     "output_type": "stream",
     "text": [
      " 186000/ 200000: 2.15960431098938\n"
     ]
    },
    {
     "name": "stderr",
     "output_type": "stream",
     "text": [
      "Training:  94%|█████████▎| 187126/200000 [02:38<00:11, 1166.98it/s, loss=2.44]"
     ]
    },
    {
     "name": "stdout",
     "output_type": "stream",
     "text": [
      " 187000/ 200000: 2.2064898014068604\n"
     ]
    },
    {
     "name": "stderr",
     "output_type": "stream",
     "text": [
      "Training:  94%|█████████▍| 188106/200000 [02:39<00:10, 1160.11it/s, loss=2.17]"
     ]
    },
    {
     "name": "stdout",
     "output_type": "stream",
     "text": [
      " 188000/ 200000: 2.4328997135162354\n"
     ]
    },
    {
     "name": "stderr",
     "output_type": "stream",
     "text": [
      "Training:  95%|█████████▍| 189161/200000 [02:40<00:09, 1153.62it/s, loss=2.31]"
     ]
    },
    {
     "name": "stdout",
     "output_type": "stream",
     "text": [
      " 189000/ 200000: 2.029183864593506\n"
     ]
    },
    {
     "name": "stderr",
     "output_type": "stream",
     "text": [
      "Training:  95%|█████████▌| 190238/200000 [02:41<00:08, 1176.90it/s, loss=2.56]"
     ]
    },
    {
     "name": "stdout",
     "output_type": "stream",
     "text": [
      " 190000/ 200000: 2.028747320175171\n"
     ]
    },
    {
     "name": "stderr",
     "output_type": "stream",
     "text": [
      "Training:  96%|█████████▌| 191206/200000 [02:42<00:07, 1172.87it/s, loss=2.13]"
     ]
    },
    {
     "name": "stdout",
     "output_type": "stream",
     "text": [
      " 191000/ 200000: 2.256474733352661\n"
     ]
    },
    {
     "name": "stderr",
     "output_type": "stream",
     "text": [
      "Training:  96%|█████████▌| 192176/200000 [02:42<00:06, 1133.75it/s, loss=1.83]"
     ]
    },
    {
     "name": "stdout",
     "output_type": "stream",
     "text": [
      " 192000/ 200000: 2.2068779468536377\n"
     ]
    },
    {
     "name": "stderr",
     "output_type": "stream",
     "text": [
      "Training:  97%|█████████▋| 193136/200000 [02:43<00:05, 1147.40it/s, loss=2.09]"
     ]
    },
    {
     "name": "stdout",
     "output_type": "stream",
     "text": [
      " 193000/ 200000: 2.2642672061920166\n"
     ]
    },
    {
     "name": "stderr",
     "output_type": "stream",
     "text": [
      "Training:  97%|█████████▋| 194212/200000 [02:44<00:04, 1168.94it/s, loss=2.2] "
     ]
    },
    {
     "name": "stdout",
     "output_type": "stream",
     "text": [
      " 194000/ 200000: 2.0324695110321045\n"
     ]
    },
    {
     "name": "stderr",
     "output_type": "stream",
     "text": [
      "Training:  98%|█████████▊| 195199/200000 [02:45<00:04, 1194.75it/s, loss=2.3] "
     ]
    },
    {
     "name": "stdout",
     "output_type": "stream",
     "text": [
      " 195000/ 200000: 2.174323320388794\n"
     ]
    },
    {
     "name": "stderr",
     "output_type": "stream",
     "text": [
      "Training:  98%|█████████▊| 196176/200000 [02:46<00:03, 1169.12it/s, loss=2.42]"
     ]
    },
    {
     "name": "stdout",
     "output_type": "stream",
     "text": [
      " 196000/ 200000: 2.388099431991577\n"
     ]
    },
    {
     "name": "stderr",
     "output_type": "stream",
     "text": [
      "Training:  99%|█████████▊| 197138/200000 [02:47<00:02, 1184.26it/s, loss=2.43]"
     ]
    },
    {
     "name": "stdout",
     "output_type": "stream",
     "text": [
      " 197000/ 200000: 2.17435884475708\n"
     ]
    },
    {
     "name": "stderr",
     "output_type": "stream",
     "text": [
      "Training:  99%|█████████▉| 198124/200000 [02:48<00:01, 1183.76it/s, loss=1.91]"
     ]
    },
    {
     "name": "stdout",
     "output_type": "stream",
     "text": [
      " 198000/ 200000: 2.296539545059204\n"
     ]
    },
    {
     "name": "stderr",
     "output_type": "stream",
     "text": [
      "Training: 100%|█████████▉| 199210/200000 [02:48<00:00, 1161.86it/s, loss=2.32]"
     ]
    },
    {
     "name": "stdout",
     "output_type": "stream",
     "text": [
      " 199000/ 200000: 2.064976453781128\n"
     ]
    },
    {
     "name": "stderr",
     "output_type": "stream",
     "text": [
      "Training: 100%|██████████| 200000/200000 [02:49<00:00, 1179.33it/s, loss=2.3] \n"
     ]
    }
   ],
   "source": [
    "progress_bar = tqdm(range(max_steps), desc=f\"Training\")\n",
    "for i in progress_bar:\n",
    "    # build minibatch\n",
    "    idx = torch.randint(0, X_tr.shape[0], (batch_size,))\n",
    "\n",
    "    # Compute embeddings\n",
    "    emb = C[X_tr[idx]]\n",
    "    embcat = emb.view(emb.shape[0], -1)\n",
    "    hpreact = embcat @ W1 + b1\n",
    "    h = torch.tanh(hpreact)\n",
    "    logits = h @ W2 + b2\n",
    "    loss = F.cross_entropy(logits, Y_tr[idx])\n",
    "    progress_bar.set_postfix(loss=loss.item())\n",
    "    # print(f\"loss: {loss.item()}\")\n",
    "\n",
    "    for p in parameters:\n",
    "        p.grad = None\n",
    "    loss.backward()\n",
    "\n",
    "    lr = 0.1 if i < 100000 else 0.01\n",
    "    for p in parameters:\n",
    "        p.data -= lr * p.grad\n",
    "\n",
    "    if i % 1000 == 0:\n",
    "        tqdm.write(f\"{i:7d}/{max_steps:7d}: {loss.item()}\")\n",
    "    lossi.append(loss.log10().item())"
   ]
  },
  {
   "cell_type": "code",
   "execution_count": 26,
   "metadata": {},
   "outputs": [
    {
     "name": "stdout",
     "output_type": "stream",
     "text": [
      "train 2.115760087966919\n",
      "val 2.153362274169922\n"
     ]
    }
   ],
   "source": [
    "@torch.no_grad()\n",
    "def split_loss(split):\n",
    "    x, y = {\"train\": {X_tr, Y_tr}, \"val\": {X_dev, Y_dev}, \"test\": {X_te, Y_te}}[split]\n",
    "    emb = C[x]\n",
    "    embcat = emb.view(emb.shape[0], -1)\n",
    "    h = torch.tanh(embcat @ W1 + b1)\n",
    "    logits = h @ W2 + b2\n",
    "    loss = F.cross_entropy(logits, y)\n",
    "    print(split, loss.item())\n",
    "\n",
    "\n",
    "split_loss(\"train\")\n",
    "split_loss(\"val\")"
   ]
  },
  {
   "cell_type": "code",
   "execution_count": 28,
   "metadata": {},
   "outputs": [
    {
     "data": {
      "image/png": "[encoded data removed]",
      "text/plain": [
       "<Figure size 640x480 with 1 Axes>"
      ]
     },
     "metadata": {},
     "output_type": "display_data"
    }
   ],
   "source": [
    "plt.plot(lossi)\n",
    "plt.show()"
   ]
  },
  {
   "cell_type": "code",
   "execution_count": 94,
   "metadata": {},
   "outputs": [
    {
     "data": {
      "text/plain": [
       "tensor(2.1655, grad_fn=<NllLossBackward0>)"
      ]
     },
     "execution_count": 94,
     "metadata": {},
     "output_type": "execute_result"
    }
   ],
   "source": [
    "emb = C[X_tr]\n",
    "h = torch.tanh(emb.view(-1, W1.shape[0]) @ W1 + b1)\n",
    "logits = h @ W2 + b2\n",
    "loss = F.cross_entropy(logits, Y_tr)\n",
    "loss"
   ]
  },
  {
   "cell_type": "code",
   "execution_count": 95,
   "metadata": {},
   "outputs": [
    {
     "data": {
      "text/plain": [
       "tensor(2.1916, grad_fn=<NllLossBackward0>)"
      ]
     },
     "execution_count": 95,
     "metadata": {},
     "output_type": "execute_result"
    }
   ],
   "source": [
    "emb = C[X_dev]\n",
    "h = torch.tanh(emb.view(-1, W1.shape[0]) @ W1 + b1)\n",
    "logits = h @ W2 + b2\n",
    "loss = F.cross_entropy(logits, Y_dev)\n",
    "loss"
   ]
  },
  {
   "cell_type": "code",
   "execution_count": null,
   "metadata": {},
   "outputs": [
    {
     "data": {
      "text/plain": [
       "[<matplotlib.lines.Line2D at 0x169776270>]"
      ]
     },
     "execution_count": 257,
     "metadata": {},
     "output_type": "execute_result"
    },
    {
     "data": {
      "image/png": "[encoded data removed]",
      "text/plain": [
       "<Figure size 640x480 with 1 Axes>"
      ]
     },
     "metadata": {},
     "output_type": "display_data"
    }
   ],
   "source": [
    "plt.plot(lri, lossi)"
   ]
  },
  {
   "cell_type": "code",
   "execution_count": 52,
   "metadata": {},
   "outputs": [
    {
     "data": {
      "text/plain": [
       "torch.Size([27, 2])"
      ]
     },
     "execution_count": 52,
     "metadata": {},
     "output_type": "execute_result"
    }
   ],
   "source": [
    "C.shape"
   ]
  },
  {
   "cell_type": "code",
   "execution_count": null,
   "metadata": {},
   "outputs": [],
   "source": []
  },
  {
   "cell_type": "code",
   "execution_count": 51,
   "metadata": {},
   "outputs": [
    {
     "data": {
      "image/png": "[encoded data removed]",
      "text/plain": [
       "<Figure size 1200x600 with 1 Axes>"
      ]
     },
     "metadata": {},
     "output_type": "display_data"
    }
   ],
   "source": [
    "plt.figure(figsize=(12, 6))\n",
    "plt.scatter(C[:, 0].data, C[:, 1].data, s=200)\n",
    "for i in range(C.shape[0]):\n",
    "    plt.text(\n",
    "        C[i, 0].item(), C[i, 1].item(), itos[i], ha=\"center\", va=\"center\", color=\"white\"\n",
    "    )\n",
    "plt.grid(\"minor\")"
   ]
  },
  {
   "cell_type": "code",
   "execution_count": 97,
   "metadata": {},
   "outputs": [
    {
     "name": "stdout",
     "output_type": "stream",
     "text": [
      "anuelen.\n",
      "tia.\n",
      "marian.\n",
      "davius.\n",
      "amillaylen.\n",
      "kemarce.\n",
      "man.\n",
      "epiacenden.\n",
      "dazi.\n",
      "kence.\n",
      "jordon.\n",
      "kalla.\n",
      "mikhlynna.\n",
      "cvahia.\n",
      "aczalin.\n",
      "tian.\n",
      "tiyan.\n",
      "marotte.\n",
      "jena.\n",
      "judgan.\n"
     ]
    }
   ],
   "source": [
    "g = torch.Generator().manual_seed(42)\n",
    "block_size = 3\n",
    "for _ in range(20):\n",
    "    out = []\n",
    "    context = [0] * block_size\n",
    "    while True:\n",
    "        emb = C[torch.tensor([context])]\n",
    "        h = torch.tanh(emb.view(1, -1) @ W1 + b1)\n",
    "        logits = h @ W2 + b2\n",
    "        probs = logits.softmax(dim=1)\n",
    "        ix = torch.multinomial(probs, num_samples=1, generator=g).item()\n",
    "        context = context[1:] + [ix]\n",
    "        out.append(ix)\n",
    "        if ix == 0:\n",
    "            break\n",
    "    print(\"\".join(itos[i] for i in out))"
   ]
  },
  {
   "cell_type": "code",
   "execution_count": null,
   "metadata": {},
   "outputs": [],
   "source": []
  }
 ],
 "metadata": {
  "kernelspec": {
   "display_name": ".venv",
   "language": "python",
   "name": "python3"
  },
  "language_info": {
   "codemirror_mode": {
    "name": "ipython",
    "version": 3
   },
   "file_extension": ".py",
   "mimetype": "text/x-python",
   "name": "python",
   "nbconvert_exporter": "python",
   "pygments_lexer": "ipython3",
   "version": "3.12.7"
  }
 },
 "nbformat": 4,
 "nbformat_minor": 2
}
